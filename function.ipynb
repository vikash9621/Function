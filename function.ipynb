{
  "nbformat": 4,
  "nbformat_minor": 0,
  "metadata": {
    "colab": {
      "provenance": []
    },
    "kernelspec": {
      "name": "python3",
      "display_name": "Python 3"
    },
    "language_info": {
      "name": "python"
    }
  },
  "cells": [
    {
      "cell_type": "code",
      "execution_count": null,
      "metadata": {
        "id": "mRnr4c8RQ_TZ"
      },
      "outputs": [],
      "source": []
    },
    {
      "cell_type": "markdown",
      "source": [
        "#  1. What is the difference between a function and a method in Python?\n",
        "->Function: A block of reusable code that is not bound to an object.\n",
        "\n",
        "\n",
        "*   Example:\n",
        "            def greet(name):\n",
        "                return \"Hello \" + name\n",
        "\n",
        "->Method: A function that is associated with an object (mostly used with classes).\n",
        "\n",
        "\n",
        "*   Example:\n",
        "            name = \"Vikash\"\n",
        "            print(name.upper())  # upper() is a method\n",
        "\n",
        "# 2. Function arguments and parameters.\n",
        "->Parameter: Variable listed inside function definition.\n",
        "\n",
        "->Argument: Value sent to the function.\n",
        "\n",
        "\n",
        "*   Example:\n",
        "            def add(a, b):   # a and b are parameters\n",
        "                return a + b\n",
        "\n",
        "            add(3, 4)         # 3 and 4 are arguments\n",
        "\n",
        "# 3. What are the different ways to define and call a function in Python?\n",
        "\n",
        "*   Define:\n",
        "          def say_hello():\n",
        "              print(\"Hello!\")\n",
        "\n",
        "*   Call:\n",
        "        say_hello()\n",
        "\n",
        "#  4. What is the purpose of the `return` statement in a Python function?\n",
        "->It exits the function and optionally passes back a result.\n",
        "->Output of a function >>It return value as it is.\n",
        "     \n",
        "     def square(n):\n",
        "         return n * n\n",
        "\n",
        "# 5. Iterators vs Iterables.\n",
        "->Iterable: Can return an iterator (like list, string).\n",
        "\n",
        "->Iterator: Has __next__() and __iter__() methods.\n",
        "\n",
        "Example:\n",
        "       \n",
        "       nums = [1, 2, 3]\n",
        "       it = iter(nums)\n",
        "       print(next(it))\n",
        "\n",
        "# 6. Explain the concept of generators in Python and how they are defined.\n",
        "->Functions using yield to produce a series of values lazily.\n",
        "      \n",
        "       def gen():\n",
        "          yield 1\n",
        "          yield 2\n",
        "\n",
        "# 7. Advantages of generators:\n",
        "->Memory-efficient\n",
        "\n",
        "->Faster iteration\n",
        "\n",
        "->Can handle infinite sequences\n",
        "\n",
        "Example:\n",
        "       \n",
        "       def count_up():\n",
        "           i = 0\n",
        "           while True:\n",
        "               yield i\n",
        "               i += 1\n",
        "\n",
        "#  8. What is a lambda function in Python and when is it typically used?\n",
        "->Anonymous one-line function using lambda.\n",
        "\n",
        " Example:\n",
        "\n",
        "         square = lambda x: x * x\n",
        "         print(square(5))  # 25\n",
        "\n",
        "#  9. Explain the purpose and usage of the `map()` function in Python.\n",
        "->Applies a function to all items in an iterable.\n",
        "\n",
        "Example:\n",
        "        \n",
        "        nums = [1, 2, 3]\n",
        "        squared = list(map(lambda x: x ** 2, nums))\n",
        "\n",
        "#  10. What is the difference between `map()`, `reduce()`, and `filter()` functions in Python?\n",
        "->map(): Transforms elements\n",
        "\n",
        "->filter(): Selects elements based on condition\n",
        "\n",
        "->reduce(): Aggregates values to a single result\n",
        "\n",
        "Example:\n",
        "\n",
        "        from functools import reduce\n",
        "        nums = [1, 2, 3, 4]\n",
        "        print(reduce(lambda x, y: x + y, nums))  # 10\n",
        "\n",
        "# 11. Using pen & Paper write the internal mechanism for sum operation using  reduce function on this given  list:[47,11,42,13];\n",
        "->\n",
        "\n",
        "    from functools import reduce\n",
        "    nums = [47, 11, 42, 13]\n",
        "    sum_result = reduce(lambda x, y: x + y, nums)\n",
        "    print(sum_result)  # 113\n",
        "\n",
        "-> ![Sum Operation](\"C:\\Users\\vikas\\Downloads\\v.jpg\")\n",
        "\n",
        "\n",
        "\n",
        "\n",
        "\n",
        "\n",
        "\n",
        "\n",
        "\n",
        "\n",
        "\n",
        "\n",
        "\n",
        "\n",
        "\n",
        "\n",
        "\n",
        "\n",
        "\n",
        "\n"
      ],
      "metadata": {
        "id": "SFX7O50dRH5G"
      }
    },
    {
      "cell_type": "code",
      "source": [
        "# 1. Write a Python function that takes a list of numbers as input and returns the sum of all even numbers in the list.\n",
        "def sum_even(numbers):\n",
        "    return sum(num for num in numbers if num % 2 == 0)\n",
        "sum_even([2,4,3,6,1])\n"
      ],
      "metadata": {
        "colab": {
          "base_uri": "https://localhost:8080/"
        },
        "id": "uG18hJYPeY7V",
        "outputId": "c1a2e205-a264-4b4d-8b06-cb3573a5882d"
      },
      "execution_count": 6,
      "outputs": [
        {
          "output_type": "execute_result",
          "data": {
            "text/plain": [
              "12"
            ]
          },
          "metadata": {},
          "execution_count": 6
        }
      ]
    },
    {
      "cell_type": "code",
      "source": [
        "# 2. Reverse a string:\n",
        "\n",
        "def reverse_string(s):\n",
        "    return s[::-1]\n",
        "reverse_string('vikash')"
      ],
      "metadata": {
        "colab": {
          "base_uri": "https://localhost:8080/",
          "height": 36
        },
        "id": "CjqFTALAfnNX",
        "outputId": "3af83173-acda-4dd5-bdfb-da6f249407d3"
      },
      "execution_count": 8,
      "outputs": [
        {
          "output_type": "execute_result",
          "data": {
            "text/plain": [
              "'hsakiv'"
            ],
            "application/vnd.google.colaboratory.intrinsic+json": {
              "type": "string"
            }
          },
          "metadata": {},
          "execution_count": 8
        }
      ]
    },
    {
      "cell_type": "code",
      "source": [
        "#3. List of squares:\n",
        "def squares(nums):\n",
        "    return [x**2 for x in nums]\n",
        "squares([1,2,3])"
      ],
      "metadata": {
        "colab": {
          "base_uri": "https://localhost:8080/"
        },
        "id": "EV05zJfDgrdW",
        "outputId": "1a4bd423-0881-46d6-bc4e-a5bc1f744b68"
      },
      "execution_count": 10,
      "outputs": [
        {
          "output_type": "execute_result",
          "data": {
            "text/plain": [
              "[1, 4, 9]"
            ]
          },
          "metadata": {},
          "execution_count": 10
        }
      ]
    },
    {
      "cell_type": "code",
      "source": [
        "#  4. Write a Python function that checks if a given number is prime or not from 1 to 200\n",
        "def is_prime(n):\n",
        "    if n < 2:\n",
        "        return False\n",
        "    for i in range(2, int(n**0.5)+1):\n",
        "        if n % i == 0:\n",
        "            return False\n",
        "    return True\n",
        "\n",
        "primes = [i for i in range(1, 201) if is_prime(i)]\n",
        "print(primes)\n"
      ],
      "metadata": {
        "colab": {
          "base_uri": "https://localhost:8080/"
        },
        "id": "YIXnZVsKhEDQ",
        "outputId": "081b3a94-38ff-4ad4-c8ff-91802c5b34ef"
      },
      "execution_count": 11,
      "outputs": [
        {
          "output_type": "stream",
          "name": "stdout",
          "text": [
            "[2, 3, 5, 7, 11, 13, 17, 19, 23, 29, 31, 37, 41, 43, 47, 53, 59, 61, 67, 71, 73, 79, 83, 89, 97, 101, 103, 107, 109, 113, 127, 131, 137, 139, 149, 151, 157, 163, 167, 173, 179, 181, 191, 193, 197, 199]\n"
          ]
        }
      ]
    },
    {
      "cell_type": "code",
      "source": [
        "#  5. Create an iterator class in Python that generates the Fibonacci sequence up to a specified number of terms.\n",
        "class Fibonacci:\n",
        "    def __init__(self, limit):\n",
        "        self.a, self.b = 0, 1\n",
        "        self.limit = limit\n",
        "        self.count = 0\n",
        "\n",
        "    def __iter__(self):\n",
        "        return self\n",
        "\n",
        "    def __next__(self):\n",
        "        if self.count >= self.limit:\n",
        "            raise StopIteration\n",
        "        val = self.a\n",
        "        self.a, self.b = self.b, self.a + self.b\n",
        "        self.count += 1\n",
        "        return val\n",
        "fib = Fibonacci(5)\n",
        "\n",
        "for num in fib:\n",
        "    print(num)\n"
      ],
      "metadata": {
        "colab": {
          "base_uri": "https://localhost:8080/"
        },
        "id": "L8SuLII2hZkL",
        "outputId": "0593758b-3935-443c-f5c3-1fa0bfe32783"
      },
      "execution_count": 14,
      "outputs": [
        {
          "output_type": "stream",
          "name": "stdout",
          "text": [
            "0\n",
            "1\n",
            "1\n",
            "2\n",
            "3\n"
          ]
        }
      ]
    },
    {
      "cell_type": "code",
      "source": [
        "#  6. Write a generator function in Python that yields the powers of 2 up to a given exponent.\n",
        "def powers_of_two(n):\n",
        "    for i in range(n+1):\n",
        "        yield 2 ** i\n",
        "for val in powers_of_two(3):\n",
        "    print(val)"
      ],
      "metadata": {
        "colab": {
          "base_uri": "https://localhost:8080/"
        },
        "id": "8r5BWZmzhqZk",
        "outputId": "47981df9-49cf-4987-f902-b1db74f86936"
      },
      "execution_count": 16,
      "outputs": [
        {
          "output_type": "stream",
          "name": "stdout",
          "text": [
            "1\n",
            "2\n",
            "4\n",
            "8\n"
          ]
        }
      ]
    },
    {
      "cell_type": "code",
      "source": [
        "\n"
      ],
      "metadata": {
        "id": "lGPJiKN1ic2G"
      },
      "execution_count": 17,
      "outputs": []
    },
    {
      "cell_type": "code",
      "source": [
        "# Create a file and write some lines\n",
        "with open(\"sample.txt\", \"w\") as file:\n",
        "    file.write(\"Hello\\n\")\n",
        "    file.write(\"World\\n\")\n",
        "    file.write(\"Python is awesome!\\n\")\n"
      ],
      "metadata": {
        "id": "I6Pjj9lblHhv"
      },
      "execution_count": 19,
      "outputs": []
    },
    {
      "cell_type": "code",
      "source": [
        "#  7. Implement a generator function that reads a file line by line and yields each line as a string\n",
        "def read_lines(file_path):\n",
        "    with open(file_path) as f:\n",
        "        for line in f:\n",
        "            yield line.strip()\n",
        "for line in read_lines(\"sample.txt\"):\n",
        "    print(line)\n"
      ],
      "metadata": {
        "colab": {
          "base_uri": "https://localhost:8080/"
        },
        "id": "prEi9d39lLfM",
        "outputId": "83a64738-b5ad-40e3-82c2-f08143473b3d"
      },
      "execution_count": 20,
      "outputs": [
        {
          "output_type": "stream",
          "name": "stdout",
          "text": [
            "Hello\n",
            "World\n",
            "Python is awesome!\n"
          ]
        }
      ]
    },
    {
      "cell_type": "code",
      "source": [
        "# 8. Use a lambda function in Python to sort a list of tuples based on the second element of each tuple\n",
        "tuples = [(1, 3), (2, 1), (4, 2)]\n",
        "sorted_tuples = sorted(tuples, key=lambda x: x[1])\n"
      ],
      "metadata": {
        "id": "1bOipDf5mT4L"
      },
      "execution_count": 21,
      "outputs": []
    },
    {
      "cell_type": "code",
      "source": [
        "sorted_tuples"
      ],
      "metadata": {
        "colab": {
          "base_uri": "https://localhost:8080/"
        },
        "id": "mkEJ3I6smpoh",
        "outputId": "81de9806-0452-4248-f6f9-8e27006410bf"
      },
      "execution_count": 22,
      "outputs": [
        {
          "output_type": "execute_result",
          "data": {
            "text/plain": [
              "[(2, 1), (4, 2), (1, 3)]"
            ]
          },
          "metadata": {},
          "execution_count": 22
        }
      ]
    },
    {
      "cell_type": "code",
      "source": [
        "#  9. Write a Python program that uses `map()` to convert a list of temperatures from Celsius to Fahrenheit.\n",
        "celsius = [0, 20, 40]\n",
        "fahrenheit = list(map(lambda c: (c * 9/5) + 32, celsius))\n",
        "fahrenheit"
      ],
      "metadata": {
        "colab": {
          "base_uri": "https://localhost:8080/"
        },
        "id": "AqniALmTmwGr",
        "outputId": "3a0f4f4a-3820-4216-e221-9e023d90aba4"
      },
      "execution_count": 23,
      "outputs": [
        {
          "output_type": "execute_result",
          "data": {
            "text/plain": [
              "[32.0, 68.0, 104.0]"
            ]
          },
          "metadata": {},
          "execution_count": 23
        }
      ]
    },
    {
      "cell_type": "code",
      "source": [
        "#  10. Create a Python program that uses `filter()` to remove all the vowels from a given string\n",
        "s = \"education\"\n",
        "result = ''.join(filter(lambda x: x.lower() not in 'aeiou', s))\n",
        "result"
      ],
      "metadata": {
        "colab": {
          "base_uri": "https://localhost:8080/",
          "height": 36
        },
        "id": "TNc5pFjAnEpL",
        "outputId": "81f1acbd-e96a-4921-f941-4f38ccfcff62"
      },
      "execution_count": 24,
      "outputs": [
        {
          "output_type": "execute_result",
          "data": {
            "text/plain": [
              "'dctn'"
            ],
            "application/vnd.google.colaboratory.intrinsic+json": {
              "type": "string"
            }
          },
          "metadata": {},
          "execution_count": 24
        }
      ]
    },
    {
      "cell_type": "code",
      "source": [
        "# 11. Accounting routine with map() and lambda:\n",
        "orders = [\n",
        "    [34587, \"Learning Python\", 4, 40.95],\n",
        "    [98762, \"Programming Python\", 5, 56.80],\n",
        "    [77226, \"Head First Python\", 3, 32.95],\n",
        "    [88112, \"Einführung in Python3\", 3, 24.99]\n",
        "]\n",
        "\n",
        "result = list(map(\n",
        "    lambda order: (order[0], order[2]*order[3] if order[2]*order[3] >= 100 else order[2]*order[3]+10),\n",
        "    orders\n",
        "))\n",
        "print(result)\n"
      ],
      "metadata": {
        "colab": {
          "base_uri": "https://localhost:8080/"
        },
        "id": "4yUxsxbEnVMc",
        "outputId": "37611ca4-151c-4fae-9aa6-fedaf8ac7d19"
      },
      "execution_count": 25,
      "outputs": [
        {
          "output_type": "stream",
          "name": "stdout",
          "text": [
            "[(34587, 163.8), (98762, 284.0), (77226, 108.85000000000001), (88112, 84.97)]\n"
          ]
        }
      ]
    },
    {
      "cell_type": "code",
      "source": [],
      "metadata": {
        "id": "eeyWs0F8npxj"
      },
      "execution_count": null,
      "outputs": []
    }
  ]
}